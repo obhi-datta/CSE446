{
  "cells": [
    {
      "cell_type": "markdown",
      "metadata": {
        "id": "view-in-github",
        "colab_type": "text"
      },
      "source": [
        "<a href=\"https://colab.research.google.com/github/obhi-datta/CSE446/blob/main/Untitled14.ipynb\" target=\"_parent\"><img src=\"https://colab.research.google.com/assets/colab-badge.svg\" alt=\"Open In Colab\"/></a>"
      ]
    },
    {
      "cell_type": "code",
      "execution_count": 5,
      "metadata": {
        "colab": {
          "base_uri": "https://localhost:8080/"
        },
        "id": "FXXddmpjY0aY",
        "outputId": "2c1d4285-3202-4423-8e66-2544cf214842"
      },
      "outputs": [
        {
          "output_type": "stream",
          "name": "stdout",
          "text": [
            "Requirement already satisfied: patool in /usr/local/lib/python3.10/dist-packages (2.1.1)\n"
          ]
        }
      ],
      "source": [
        "!pip install patool"
      ]
    },
    {
      "cell_type": "code",
      "execution_count": 6,
      "metadata": {
        "id": "31R169CjZCMW"
      },
      "outputs": [],
      "source": [
        "import patoolib"
      ]
    },
    {
      "cell_type": "code",
      "execution_count": 7,
      "metadata": {
        "colab": {
          "base_uri": "https://localhost:8080/"
        },
        "id": "Hkx1IJaHZHGd",
        "outputId": "422824a5-848f-4240-9f17-9e10153e3591"
      },
      "outputs": [
        {
          "output_type": "stream",
          "name": "stdout",
          "text": [
            "Drive already mounted at /content/gdrive; to attempt to forcibly remount, call drive.mount(\"/content/gdrive\", force_remount=True).\n",
            "/content/gdrive/MyDrive/Dataset\n",
            "List of files:\n",
            "train\n",
            "test\n",
            "Optical _recognition of Bangla language.json\n",
            "Optical _recognition of Bangla language.h5\n"
          ]
        }
      ],
      "source": [
        "import os\n",
        "from google.colab import drive\n",
        "drive.mount('/content/gdrive')\n",
        "data_directory = '/content/gdrive/MyDrive/Dataset'\n",
        "%cd $data_directory\n",
        "\n",
        "file_list= os.listdir()\n",
        "print (\"List of files:\")\n",
        "for file in file_list:\n",
        "  print (file)\n",
        "\n"
      ]
    },
    {
      "cell_type": "code",
      "execution_count": 8,
      "metadata": {
        "id": "un5Fp92vg0Hj"
      },
      "outputs": [],
      "source": [
        "import cv2\n",
        "first_image_path = os.path.join (data_directory, file_list [0] )\n",
        "image = cv2.imread (first_image_path)"
      ]
    },
    {
      "cell_type": "code",
      "execution_count": 9,
      "metadata": {
        "id": "8ynNMB-CkpV9"
      },
      "outputs": [],
      "source": [
        "import zipfile as zf"
      ]
    },
    {
      "cell_type": "code",
      "execution_count": 10,
      "metadata": {
        "id": "4O2RvzTWkxM8"
      },
      "outputs": [],
      "source": [
        "from keras.models import Sequential\n",
        "from keras.layers import Conv2D, MaxPooling2D, Flatten, Dense, Dropout"
      ]
    },
    {
      "cell_type": "code",
      "execution_count": 11,
      "metadata": {
        "id": "gY3FZeSMluOs"
      },
      "outputs": [],
      "source": [
        "classifier = Sequential()\n",
        "\n",
        "classifier.add(Conv2D(filters = 128, kernel_size = (3, 3), activation = 'relu', input_shape = (40, 40, 3)))\n",
        "classifier.add(MaxPooling2D(pool_size = (2, 2)))\n",
        "classifier.add(Dropout(.2))\n",
        "\n",
        "classifier.add(Conv2D(filters = 64, kernel_size = (3, 3), activation = 'relu'))\n",
        "classifier.add(MaxPooling2D(pool_size = (2, 2)))\n",
        "classifier.add(Dropout(.2))\n",
        "\n",
        "classifier.add(Flatten())\n",
        "\n",
        "classifier.add(Dense(units = 128, activation = 'relu'))\n",
        "classifier.add(Dropout(.2))\n",
        "\n",
        "classifier.add(Dense(units = 50, activation = 'softmax'))\n",
        "\n",
        "classifier.compile(optimizer = 'adam', loss = 'categorical_crossentropy', metrics = ['accuracy'])"
      ]
    },
    {
      "cell_type": "code",
      "execution_count": 12,
      "metadata": {
        "id": "CPdnHALSl6QW"
      },
      "outputs": [],
      "source": [
        "from keras.preprocessing.image import ImageDataGenerator\n",
        "from PIL import ImageFile"
      ]
    },
    {
      "cell_type": "code",
      "execution_count": 13,
      "metadata": {
        "colab": {
          "base_uri": "https://localhost:8080/"
        },
        "id": "Pj755iUAl87l",
        "outputId": "e48b5ce4-1603-4b9c-964e-bfe8326e7c91"
      },
      "outputs": [
        {
          "output_type": "stream",
          "name": "stdout",
          "text": [
            "Found 12000 images belonging to 50 classes.\n",
            "Found 2051 images belonging to 50 classes.\n"
          ]
        }
      ],
      "source": [
        "ImageFile.LOAD_TRUNCATED_IMAGES = True\n",
        "\n",
        "train_datagen = ImageDataGenerator(rescale = 1./255, shear_range = .2, rotation_range = 25)\n",
        "test_datagen = ImageDataGenerator(rescale = 1./255)\n",
        "\n",
        "training_set = train_datagen.flow_from_directory('/content/gdrive/MyDrive/Dataset/train', target_size = (40, 40),\n",
        "                                                 batch_size = 32, class_mode = 'categorical')\n",
        "test_set = test_datagen.flow_from_directory('/content/gdrive/MyDrive/Dataset/test', target_size = (40, 40),\n",
        "                                                 batch_size = 32, class_mode = 'categorical')"
      ]
    },
    {
      "cell_type": "code",
      "execution_count": 14,
      "metadata": {
        "colab": {
          "base_uri": "https://localhost:8080/"
        },
        "id": "NXd_aIorA45y",
        "outputId": "117b266a-3ebe-4ea3-a1eb-52fa7cfc0186"
      },
      "outputs": [
        {
          "output_type": "stream",
          "name": "stdout",
          "text": [
            "Epoch 1/10\n",
            "375/375 [==============================] - ETA: 0s - loss: 2.8643 - accuracy: 0.2518"
          ]
        },
        {
          "output_type": "stream",
          "name": "stderr",
          "text": [
            "WARNING:tensorflow:Your input ran out of data; interrupting training. Make sure that your dataset or generator can generate at least `steps_per_epoch * epochs` batches (in this case, 2051 batches). You may need to use the repeat() function when building your dataset.\n"
          ]
        },
        {
          "output_type": "stream",
          "name": "stdout",
          "text": [
            "\b\b\b\b\b\b\b\b\b\b\b\b\b\b\b\b\b\b\b\b\b\b\b\b\b\b\b\b\b\b\b\b\b\b\b\b\b\b\b\b\b\b\b\b\b\b\b\b\b\b\b\b\b\b\b\b\b\b\b\b\b\b\b\b\b\b\b\b\b\b\b\b\b\b\b\b\b\b\b\b\b\b\b\b\r375/375 [==============================] - 149s 391ms/step - loss: 2.8643 - accuracy: 0.2518 - val_loss: 1.3304 - val_accuracy: 0.6324\n",
            "Epoch 2/10\n",
            "375/375 [==============================] - 118s 313ms/step - loss: 1.4917 - accuracy: 0.5701\n",
            "Epoch 3/10\n",
            "375/375 [==============================] - 117s 312ms/step - loss: 1.1806 - accuracy: 0.6539\n",
            "Epoch 4/10\n",
            "375/375 [==============================] - 117s 312ms/step - loss: 1.0188 - accuracy: 0.6940\n",
            "Epoch 5/10\n",
            "375/375 [==============================] - 117s 312ms/step - loss: 0.9158 - accuracy: 0.7241\n",
            "Epoch 6/10\n",
            "375/375 [==============================] - 118s 314ms/step - loss: 0.8548 - accuracy: 0.7400\n",
            "Epoch 7/10\n",
            "375/375 [==============================] - 117s 313ms/step - loss: 0.7845 - accuracy: 0.7659\n",
            "Epoch 8/10\n",
            "375/375 [==============================] - 118s 314ms/step - loss: 0.7429 - accuracy: 0.7717\n",
            "Epoch 9/10\n",
            "375/375 [==============================] - 117s 312ms/step - loss: 0.7007 - accuracy: 0.7819\n",
            "Epoch 10/10\n",
            "375/375 [==============================] - 117s 312ms/step - loss: 0.6856 - accuracy: 0.7903\n"
          ]
        },
        {
          "output_type": "execute_result",
          "data": {
            "text/plain": [
              "<keras.src.callbacks.History at 0x7ad11b2d9390>"
            ]
          },
          "metadata": {},
          "execution_count": 14
        }
      ],
      "source": [
        "classifier.fit(training_set, epochs = 10,\n",
        "                        validation_data = test_set, validation_steps = 2051)"
      ]
    },
    {
      "cell_type": "code",
      "source": [
        "!pip install matplotlib\n"
      ],
      "metadata": {
        "colab": {
          "base_uri": "https://localhost:8080/"
        },
        "id": "58jjMVE646_q",
        "outputId": "8a6bff48-4fac-48c2-f275-56078cd2a426"
      },
      "execution_count": 15,
      "outputs": [
        {
          "output_type": "stream",
          "name": "stdout",
          "text": [
            "Requirement already satisfied: matplotlib in /usr/local/lib/python3.10/dist-packages (3.7.1)\n",
            "Requirement already satisfied: contourpy>=1.0.1 in /usr/local/lib/python3.10/dist-packages (from matplotlib) (1.2.0)\n",
            "Requirement already satisfied: cycler>=0.10 in /usr/local/lib/python3.10/dist-packages (from matplotlib) (0.12.1)\n",
            "Requirement already satisfied: fonttools>=4.22.0 in /usr/local/lib/python3.10/dist-packages (from matplotlib) (4.48.1)\n",
            "Requirement already satisfied: kiwisolver>=1.0.1 in /usr/local/lib/python3.10/dist-packages (from matplotlib) (1.4.5)\n",
            "Requirement already satisfied: numpy>=1.20 in /usr/local/lib/python3.10/dist-packages (from matplotlib) (1.23.5)\n",
            "Requirement already satisfied: packaging>=20.0 in /usr/local/lib/python3.10/dist-packages (from matplotlib) (23.2)\n",
            "Requirement already satisfied: pillow>=6.2.0 in /usr/local/lib/python3.10/dist-packages (from matplotlib) (9.4.0)\n",
            "Requirement already satisfied: pyparsing>=2.3.1 in /usr/local/lib/python3.10/dist-packages (from matplotlib) (3.1.1)\n",
            "Requirement already satisfied: python-dateutil>=2.7 in /usr/local/lib/python3.10/dist-packages (from matplotlib) (2.8.2)\n",
            "Requirement already satisfied: six>=1.5 in /usr/local/lib/python3.10/dist-packages (from python-dateutil>=2.7->matplotlib) (1.16.0)\n"
          ]
        }
      ]
    },
    {
      "cell_type": "code",
      "source": [
        "import matplotlib.pyplot as plt"
      ],
      "metadata": {
        "id": "dcx9AsyT5a26"
      },
      "execution_count": 20,
      "outputs": []
    },
    {
      "cell_type": "code",
      "source": [
        "history = classifier.fit(training_set, epochs=10, validation_data=test_set, validation_steps=2051)\n",
        "\n",
        "\n",
        "plt.plot(history.history['accuracy'], label='Training Accuracy')\n",
        "plt.plot(history.history['val_accuracy'], label='Validation Accuracy')\n",
        "plt.title('Training and Validation Accuracy Over Epochs')\n",
        "plt.xlabel('Epochs')\n",
        "plt.ylabel('Accuracy')\n",
        "plt.legend()\n",
        "plt.show()"
      ],
      "metadata": {
        "colab": {
          "base_uri": "https://localhost:8080/",
          "height": 857
        },
        "id": "NHBdEszf5kk6",
        "outputId": "96be1595-5668-455f-d303-2f5407209656"
      },
      "execution_count": 21,
      "outputs": [
        {
          "output_type": "stream",
          "name": "stdout",
          "text": [
            "Epoch 1/10\n",
            "375/375 [==============================] - ETA: 0s - loss: 0.7242 - accuracy: 0.7770"
          ]
        },
        {
          "output_type": "stream",
          "name": "stderr",
          "text": [
            "WARNING:tensorflow:Your input ran out of data; interrupting training. Make sure that your dataset or generator can generate at least `steps_per_epoch * epochs` batches (in this case, 2051 batches). You may need to use the repeat() function when building your dataset.\n"
          ]
        },
        {
          "output_type": "stream",
          "name": "stdout",
          "text": [
            "\b\b\b\b\b\b\b\b\b\b\b\b\b\b\b\b\b\b\b\b\b\b\b\b\b\b\b\b\b\b\b\b\b\b\b\b\b\b\b\b\b\b\b\b\b\b\b\b\b\b\b\b\b\b\b\b\b\b\b\b\b\b\b\b\b\b\b\b\b\b\b\b\b\b\b\b\b\b\b\b\b\b\b\b\r375/375 [==============================] - 165s 440ms/step - loss: 0.7242 - accuracy: 0.7770 - val_loss: 0.4835 - val_accuracy: 0.8567\n",
            "Epoch 2/10\n",
            "375/375 [==============================] - 127s 337ms/step - loss: 0.6844 - accuracy: 0.7900\n",
            "Epoch 3/10\n",
            "375/375 [==============================] - 124s 331ms/step - loss: 0.6725 - accuracy: 0.7912\n",
            "Epoch 4/10\n",
            "375/375 [==============================] - 124s 329ms/step - loss: 0.6495 - accuracy: 0.8012\n",
            "Epoch 5/10\n",
            "375/375 [==============================] - 129s 343ms/step - loss: 0.6204 - accuracy: 0.8058\n",
            "Epoch 6/10\n",
            "375/375 [==============================] - 121s 323ms/step - loss: 0.6065 - accuracy: 0.8099\n",
            "Epoch 7/10\n",
            "375/375 [==============================] - 121s 323ms/step - loss: 0.5757 - accuracy: 0.8173\n",
            "Epoch 8/10\n",
            "375/375 [==============================] - 122s 324ms/step - loss: 0.5700 - accuracy: 0.8188\n",
            "Epoch 9/10\n",
            "375/375 [==============================] - 127s 338ms/step - loss: 0.5537 - accuracy: 0.8260\n",
            "Epoch 10/10\n",
            "375/375 [==============================] - 121s 321ms/step - loss: 0.5450 - accuracy: 0.8289\n"
          ]
        },
        {
          "output_type": "display_data",
          "data": {
            "text/plain": [
              "<Figure size 640x480 with 1 Axes>"
            ],
            "image/png": "[encoded data removed]"
          },
          "metadata": {}
        }
      ]
    },
    {
      "cell_type": "code",
      "source": [
        "plt.plot(history.history['loss'], label='Training Loss')\n",
        "plt.plot(history.history['val_loss'], label='Validation Loss')\n",
        "plt.title('Training and Validation Loss Over Epochs')\n",
        "plt.xlabel('Epochs')\n",
        "plt.ylabel('Loss')\n",
        "plt.legend()\n",
        "plt.show()"
      ],
      "metadata": {
        "colab": {
          "base_uri": "https://localhost:8080/",
          "height": 472
        },
        "id": "BIyrmBQNSm5O",
        "outputId": "ef036cba-c677-4378-abc2-365ea5945d61"
      },
      "execution_count": 22,
      "outputs": [
        {
          "output_type": "display_data",
          "data": {
            "text/plain": [
              "<Figure size 640x480 with 1 Axes>"
            ],
            "image/png": "[encoded data removed]"
          },
          "metadata": {}
        }
      ]
    },
    {
      "cell_type": "code",
      "source": [
        "from sklearn.metrics import confusion_matrix\n",
        "import seaborn as sns\n",
        "import numpy as np\n",
        "import matplotlib.pyplot as plt  # Don't forget to import matplotlib\n",
        "\n",
        "_true = test_set.classes\n",
        "y_pred = classifier.predict(test_set)\n",
        "y_pred_classes = np.argmax(y_pred, axis=1)\n",
        "cm = confusion_matrix(_true, y_pred_classes)  # Fix the variable name here\n",
        "plt.figure(figsize=(10, 8))\n",
        "sns.heatmap(cm, annot=True, fmt='d', cmap='Reds', xticklabels=test_set.class_indices, yticklabels=test_set.class_indices)\n",
        "plt.title('Confusion Matrix')\n",
        "plt.xlabel('Predicted Label')\n",
        "plt.ylabel('True Label')\n",
        "plt.show()\n"
      ],
      "metadata": {
        "colab": {
          "base_uri": "https://localhost:8080/",
          "height": 245
        },
        "id": "XUbFmIQwS4L1",
        "outputId": "44f25152-b91e-4e78-d962-e903a01342ee"
      },
      "execution_count": 4,
      "outputs": [
        {
          "output_type": "error",
          "ename": "NameError",
          "evalue": "name 'test_set' is not defined",
          "traceback": [
            "\u001b[0;31m---------------------------------------------------------------------------\u001b[0m",
            "\u001b[0;31mNameError\u001b[0m                                 Traceback (most recent call last)",
            "\u001b[0;32m<ipython-input-4-ec2e94554ff3>\u001b[0m in \u001b[0;36m<cell line: 6>\u001b[0;34m()\u001b[0m\n\u001b[1;32m      4\u001b[0m \u001b[0;32mimport\u001b[0m \u001b[0mmatplotlib\u001b[0m\u001b[0;34m.\u001b[0m\u001b[0mpyplot\u001b[0m \u001b[0;32mas\u001b[0m \u001b[0mplt\u001b[0m  \u001b[0;31m# Don't forget to import matplotlib\u001b[0m\u001b[0;34m\u001b[0m\u001b[0;34m\u001b[0m\u001b[0m\n\u001b[1;32m      5\u001b[0m \u001b[0;34m\u001b[0m\u001b[0m\n\u001b[0;32m----> 6\u001b[0;31m \u001b[0m_true\u001b[0m \u001b[0;34m=\u001b[0m \u001b[0mtest_set\u001b[0m\u001b[0;34m.\u001b[0m\u001b[0mclasses\u001b[0m\u001b[0;34m\u001b[0m\u001b[0;34m\u001b[0m\u001b[0m\n\u001b[0m\u001b[1;32m      7\u001b[0m \u001b[0my_pred\u001b[0m \u001b[0;34m=\u001b[0m \u001b[0mclassifier\u001b[0m\u001b[0;34m.\u001b[0m\u001b[0mpredict\u001b[0m\u001b[0;34m(\u001b[0m\u001b[0mtest_set\u001b[0m\u001b[0;34m)\u001b[0m\u001b[0;34m\u001b[0m\u001b[0;34m\u001b[0m\u001b[0m\n\u001b[1;32m      8\u001b[0m \u001b[0my_pred_classes\u001b[0m \u001b[0;34m=\u001b[0m \u001b[0mnp\u001b[0m\u001b[0;34m.\u001b[0m\u001b[0margmax\u001b[0m\u001b[0;34m(\u001b[0m\u001b[0my_pred\u001b[0m\u001b[0;34m,\u001b[0m \u001b[0maxis\u001b[0m\u001b[0;34m=\u001b[0m\u001b[0;36m1\u001b[0m\u001b[0;34m)\u001b[0m\u001b[0;34m\u001b[0m\u001b[0;34m\u001b[0m\u001b[0m\n",
            "\u001b[0;31mNameError\u001b[0m: name 'test_set' is not defined"
          ]
        }
      ]
    },
    {
      "cell_type": "code",
      "source": [
        "from tensorflow.keras.callbacks import LearningRateScheduler\n",
        "import matplotlib.pyplot as plt\n",
        "\n",
        "def learning_rate_schedule(epoch):\n",
        "    if epoch < 5:\n",
        "        return 0.001\n",
        "    else:\n",
        "        return 0.0001\n",
        "\n",
        "lr_scheduler = LearningRateScheduler(learning_rate_schedule)\n",
        "history = classifier.fit(training_set, epochs=10, validation_data=test_set, validation_steps=2051, callbacks=[lr_scheduler])\n",
        "\n",
        "# Extract accuracy and learning rates from the history object\n",
        "accuracies = history.history['accuracy']\n",
        "learning_rates = [learning_rate_schedule(epoch) for epoch in range(len(accuracies))]\n",
        "\n",
        "# Plot both accuracy and learning rates\n",
        "fig, ax1 = plt.subplots()\n",
        "\n",
        "ax1.set_xlabel('Epochs')\n",
        "ax1.set_ylabel('Learning Rate', color='tab:blue')\n",
        "ax1.plot(learning_rates, color='tab:blue')\n",
        "ax1.tick_params(axis='y', labelcolor='tab:blue')\n",
        "\n",
        "ax2 = ax1.twinx()\n",
        "ax2.set_ylabel('Accuracy (%)', color='tab:red')\n",
        "ax2.plot(accuracies, color='tab:red')\n",
        "ax2.tick_params(axis='y', labelcolor='tab:red')\n",
        "\n",
        "plt.title('Learning Rate and Accuracy Over Epochs')\n",
        "plt.show()\n"
      ],
      "metadata": {
        "colab": {
          "base_uri": "https://localhost:8080/",
          "height": 245
        },
        "id": "CyzlrtzCUaCn",
        "outputId": "9f44b05e-4508-4e94-82d9-f924a4aee985"
      },
      "execution_count": 3,
      "outputs": [
        {
          "output_type": "error",
          "ename": "NameError",
          "evalue": "name 'training_set' is not defined",
          "traceback": [
            "\u001b[0;31m---------------------------------------------------------------------------\u001b[0m",
            "\u001b[0;31mNameError\u001b[0m                                 Traceback (most recent call last)",
            "\u001b[0;32m<ipython-input-3-adc01f7e2c53>\u001b[0m in \u001b[0;36m<cell line: 11>\u001b[0;34m()\u001b[0m\n\u001b[1;32m      9\u001b[0m \u001b[0;34m\u001b[0m\u001b[0m\n\u001b[1;32m     10\u001b[0m \u001b[0mlr_scheduler\u001b[0m \u001b[0;34m=\u001b[0m \u001b[0mLearningRateScheduler\u001b[0m\u001b[0;34m(\u001b[0m\u001b[0mlearning_rate_schedule\u001b[0m\u001b[0;34m)\u001b[0m\u001b[0;34m\u001b[0m\u001b[0;34m\u001b[0m\u001b[0m\n\u001b[0;32m---> 11\u001b[0;31m \u001b[0mhistory\u001b[0m \u001b[0;34m=\u001b[0m \u001b[0mclassifier\u001b[0m\u001b[0;34m.\u001b[0m\u001b[0mfit\u001b[0m\u001b[0;34m(\u001b[0m\u001b[0mtraining_set\u001b[0m\u001b[0;34m,\u001b[0m \u001b[0mepochs\u001b[0m\u001b[0;34m=\u001b[0m\u001b[0;36m10\u001b[0m\u001b[0;34m,\u001b[0m \u001b[0mvalidation_data\u001b[0m\u001b[0;34m=\u001b[0m\u001b[0mtest_set\u001b[0m\u001b[0;34m,\u001b[0m \u001b[0mvalidation_steps\u001b[0m\u001b[0;34m=\u001b[0m\u001b[0;36m2051\u001b[0m\u001b[0;34m,\u001b[0m \u001b[0mcallbacks\u001b[0m\u001b[0;34m=\u001b[0m\u001b[0;34m[\u001b[0m\u001b[0mlr_scheduler\u001b[0m\u001b[0;34m]\u001b[0m\u001b[0;34m)\u001b[0m\u001b[0;34m\u001b[0m\u001b[0;34m\u001b[0m\u001b[0m\n\u001b[0m\u001b[1;32m     12\u001b[0m \u001b[0;34m\u001b[0m\u001b[0m\n\u001b[1;32m     13\u001b[0m \u001b[0;31m# Extract accuracy and learning rates from the history object\u001b[0m\u001b[0;34m\u001b[0m\u001b[0;34m\u001b[0m\u001b[0m\n",
            "\u001b[0;31mNameError\u001b[0m: name 'training_set' is not defined"
          ]
        }
      ]
    },
    {
      "cell_type": "code",
      "source": [
        "classifier.summary()"
      ],
      "metadata": {
        "colab": {
          "base_uri": "https://localhost:8080/"
        },
        "id": "QbB2_CIugBP3",
        "outputId": "857bedbf-55ec-4138-aede-7a226a8f01c4"
      },
      "execution_count": 36,
      "outputs": [
        {
          "output_type": "stream",
          "name": "stdout",
          "text": [
            "Model: \"sequential\"\n",
            "_________________________________________________________________\n",
            " Layer (type)                Output Shape              Param #   \n",
            "=================================================================\n",
            " conv2d (Conv2D)             (None, 38, 38, 128)       3584      \n",
            "                                                                 \n",
            " max_pooling2d (MaxPooling2  (None, 19, 19, 128)       0         \n",
            " D)                                                              \n",
            "                                                                 \n",
            " dropout (Dropout)           (None, 19, 19, 128)       0         \n",
            "                                                                 \n",
            " conv2d_1 (Conv2D)           (None, 17, 17, 64)        73792     \n",
            "                                                                 \n",
            " max_pooling2d_1 (MaxPoolin  (None, 8, 8, 64)          0         \n",
            " g2D)                                                            \n",
            "                                                                 \n",
            " dropout_1 (Dropout)         (None, 8, 8, 64)          0         \n",
            "                                                                 \n",
            " flatten (Flatten)           (None, 4096)              0         \n",
            "                                                                 \n",
            " dense (Dense)               (None, 128)               524416    \n",
            "                                                                 \n",
            " dropout_2 (Dropout)         (None, 128)               0         \n",
            "                                                                 \n",
            " dense_1 (Dense)             (None, 50)                6450      \n",
            "                                                                 \n",
            "=================================================================\n",
            "Total params: 608242 (2.32 MB)\n",
            "Trainable params: 608242 (2.32 MB)\n",
            "Non-trainable params: 0 (0.00 Byte)\n",
            "_________________________________________________________________\n"
          ]
        }
      ]
    },
    {
      "cell_type": "code",
      "source": [
        "classifier_json = classifier.to_json()\n",
        "\n",
        "with open(\"Optical _recognition of Bangla language.json\", \"w\") as json_file:\n",
        "    json_file.write(classifier_json)\n",
        "\n",
        "classifier.save_weights(\"Optical _recognition of Bangla language.h5\")\n",
        "print('Saved model to disk')"
      ],
      "metadata": {
        "colab": {
          "base_uri": "https://localhost:8080/"
        },
        "id": "MwCKGeiKgV8H",
        "outputId": "facae14d-9591-4be1-d1d2-67a8688f8d23"
      },
      "execution_count": 37,
      "outputs": [
        {
          "output_type": "stream",
          "name": "stdout",
          "text": [
            "Saved model to disk\n"
          ]
        }
      ]
    },
    {
      "cell_type": "code",
      "source": [
        "import PIL\n",
        "from PIL import ImageTk, ImageDraw, Image\n",
        "from tkinter import *\n",
        "from keras.preprocessing import image\n",
        "import os\n",
        "import tensorflow as tf\n",
        "\n",
        "from tensorflow.keras.applications.resnet50 import preprocess_input, decode_predictions\n",
        "from tensorflow.keras.preprocessing import image"
      ],
      "metadata": {
        "id": "Qn0iRLiygfu3"
      },
      "execution_count": 39,
      "outputs": []
    },
    {
      "cell_type": "code",
      "source": [
        "def create_new_image():\n",
        "    width = 256\n",
        "    height = 256\n",
        "    center = height // 2\n",
        "    pink = (255, 255, 255)\n",
        "    green = (0, 128, 0)\n",
        "\n",
        "    def save():\n",
        "        filename = 'Home/Desktop/Dataset/SinglePrediction/image.jpg'\n",
        "        image.save(filename)\n",
        "\n",
        "    def paint(event):\n",
        "        x1, y1 = (event.x - 1), (event.y - 1)\n",
        "        x2, y2 = (event.x + 1), (event.y + 1)\n",
        "        cv.create_oval(x1, y1, x2, y2, fill = 'black', width = 30)\n",
        "        draw.line([x1, y1, x2, y2], fill = 'black', width = 30)\n",
        "\n",
        "    root = Tk()\n",
        "\n",
        "    cv = Canvas(root, width = width, height = height, bg = 'pink')\n",
        "    cv.pack()\n",
        "\n",
        "    image = PIL.Image.new('RGB', (width, height), pink)\n",
        "    draw = ImageDraw.Draw(image)\n",
        "\n",
        "    cv.pack(expand = YES, fill = BOTH)\n",
        "    cv.bind(\"<B1-Motion>\", paint)\n",
        "\n",
        "    button = Button(text = 'Save', command = save)\n",
        "    button.pack()\n",
        "\n",
        "    root.mainloop()"
      ],
      "metadata": {
        "id": "8Aq4vFr1jTUY"
      },
      "execution_count": 40,
      "outputs": []
    },
    {
      "cell_type": "code",
      "source": [
        "from PIL import Image, ImageDraw\n",
        "import IPython.display as display\n",
        "from ipywidgets import interact, interactive, fixed, interact_manual\n",
        "import ipywidgets as widgets\n",
        "\n",
        "def create_and_display_image():\n",
        "    width = 256\n",
        "    height = 256\n",
        "    pink = (255, 182, 193)  # Pink color\n",
        "\n",
        "    # Create a blank image with a pink background\n",
        "    image = Image.new('RGB', (width, height), pink)\n",
        "    draw = ImageDraw.Draw(image)\n",
        "\n",
        "    def draw_line(x1, y1, x2, y2):\n",
        "        draw.line([x1, y1, x2, y2], fill='black', width=5)\n",
        "        display.display(image)\n",
        "\n",
        "    interact(draw_line, x1=(0, width, 1), y1=(0, height, 1), x2=(0, width, 1), y2=(0, height, 1))\n",
        "\n",
        "# Call the function to create and display the image\n",
        "create_and_display_image()"
      ],
      "metadata": {
        "colab": {
          "base_uri": "https://localhost:8080/",
          "height": 401,
          "referenced_widgets": [
            "f51af3180c0d4b7ea87ea299a63ccccc",
            "cb337d76dce84ac19967b910bb9f4653",
            "c947185f96f444d79f540d706f7ef3a6",
            "42e9887b425f4c2f9c953cc9d6c50374",
            "e2dd5d50f11b4c4f8e2963dd4e983826",
            "6159a116c5b449ea929de88b04b8f1c5",
            "928295cc3c14435b831b0d99687c1b82",
            "f260af32071146108b106919fbefd93e",
            "36cfc92b943d40c2ad1f8ae80a3062f6",
            "f0d3958f377c4b7db5573e5fa8c6c6bb",
            "9785c27bf1a94693843cb071e23b1fc4",
            "bcedee3c21a24b81912178ee0e8c0827",
            "06751f48e0f3437886707112c30645ee",
            "2b0bbf12642a4b6bae9f5b1febd560ef",
            "c724ea494e694c4d85404a2074cdc733",
            "ff0bfed2497e42369d82fbfba9ce0627"
          ]
        },
        "id": "Oq22RyC5j8lQ",
        "outputId": "6cc5b403-3900-47bf-dd71-9415e4d5ec8a"
      },
      "execution_count": 42,
      "outputs": [
        {
          "output_type": "display_data",
          "data": {
            "text/plain": [
              "interactive(children=(IntSlider(value=128, description='x1', max=256), IntSlider(value=128, description='y1', …"
            ],
            "application/vnd.jupyter.widget-view+json": {
              "version_major": 2,
              "version_minor": 0,
              "model_id": "f51af3180c0d4b7ea87ea299a63ccccc"
            }
          },
          "metadata": {}
        }
      ]
    },
    {
      "cell_type": "code",
      "source": [
        "import ipywidgets as widgets\n",
        "from IPython.display import display, HTML, Javascript\n",
        "\n",
        "html_code = \"\"\"\n",
        "<canvas id=\"canvas\" width=\"256\" height=\"256\" style=\"border:1px solid #000;\"></canvas>\n",
        "<button onclick=\"saveCanvas()\">Save</button>\n",
        "\n",
        "<script>\n",
        "var canvas = document.getElementById(\"canvas\");\n",
        "var ctx = canvas.getContext(\"2d\");\n",
        "var drawing = false;\n",
        "\n",
        "canvas.addEventListener(\"mousedown\", function(e) {\n",
        "    drawing = true;\n",
        "    draw(e.clientX - canvas.offsetLeft, e.clientY - canvas.offsetTop, false);\n",
        "});\n",
        "\n",
        "canvas.addEventListener(\"mousemove\", function(e) {\n",
        "    if (drawing) {\n",
        "        draw(e.clientX - canvas.offsetLeft, e.clientY - canvas.offsetTop, true);\n",
        "    }\n",
        "});\n",
        "\n",
        "canvas.addEventListener(\"mouseup\", function() {\n",
        "    drawing = false;\n",
        "});\n",
        "\n",
        "function draw(x, y, isDown) {\n",
        "    if (isDown) {\n",
        "        ctx.beginPath();\n",
        "        ctx.lineWidth = 5;\n",
        "        ctx.lineJoin = \"round\";\n",
        "        ctx.moveTo(lastX, lastY);\n",
        "        ctx.lineTo(x, y);\n",
        "        ctx.closePath();\n",
        "        ctx.stroke();\n",
        "    }\n",
        "    lastX = x;\n",
        "    lastY = y;\n",
        "}\n",
        "\n",
        "function saveCanvas() {\n",
        "    var imgData = canvas.toDataURL(\"image/jpeg\");\n",
        "    var kernel = IPython.notebook.kernel;\n",
        "    kernel.execute(\"image_data = '\" + imgData + \"'\");\n",
        "}\n",
        "</script>\n",
        "\"\"\"\n",
        "\n",
        "display(HTML(html_code))\n",
        "\n",
        "# This is just a placeholder for the image data variable\n",
        "image_data = None"
      ],
      "metadata": {
        "colab": {
          "base_uri": "https://localhost:8080/",
          "height": 281
        },
        "id": "7LTIl1N1kZ74",
        "outputId": "579e9028-2d0a-4008-c42d-a0974743354e"
      },
      "execution_count": 43,
      "outputs": [
        {
          "output_type": "display_data",
          "data": {
            "text/plain": [
              "<IPython.core.display.HTML object>"
            ],
            "text/html": [
              "\n",
              "<canvas id=\"canvas\" width=\"256\" height=\"256\" style=\"border:1px solid #000;\"></canvas>\n",
              "<button onclick=\"saveCanvas()\">Save</button>\n",
              "\n",
              "<script>\n",
              "var canvas = document.getElementById(\"canvas\");\n",
              "var ctx = canvas.getContext(\"2d\");\n",
              "var drawing = false;\n",
              "\n",
              "canvas.addEventListener(\"mousedown\", function(e) {\n",
              "    drawing = true;\n",
              "    draw(e.clientX - canvas.offsetLeft, e.clientY - canvas.offsetTop, false);\n",
              "});\n",
              "\n",
              "canvas.addEventListener(\"mousemove\", function(e) {\n",
              "    if (drawing) {\n",
              "        draw(e.clientX - canvas.offsetLeft, e.clientY - canvas.offsetTop, true);\n",
              "    }\n",
              "});\n",
              "\n",
              "canvas.addEventListener(\"mouseup\", function() {\n",
              "    drawing = false;\n",
              "});\n",
              "\n",
              "function draw(x, y, isDown) {\n",
              "    if (isDown) {\n",
              "        ctx.beginPath();\n",
              "        ctx.lineWidth = 5;\n",
              "        ctx.lineJoin = \"round\";\n",
              "        ctx.moveTo(lastX, lastY);\n",
              "        ctx.lineTo(x, y);\n",
              "        ctx.closePath();\n",
              "        ctx.stroke();\n",
              "    }\n",
              "    lastX = x;\n",
              "    lastY = y;\n",
              "}\n",
              "\n",
              "function saveCanvas() {\n",
              "    var imgData = canvas.toDataURL(\"image/jpeg\");\n",
              "    var kernel = IPython.notebook.kernel;\n",
              "    kernel.execute(\"image_data = '\" + imgData + \"'\");\n",
              "}\n",
              "</script>\n"
            ]
          },
          "metadata": {}
        }
      ]
    },
    {
      "cell_type": "code",
      "source": [
        "import tensorflow as tf\n",
        "\n",
        "config = tf.compat.v1.ConfigProto()\n",
        "config.gpu_options.allow_growth = True\n",
        "config.gpu_options.visible_device_list = \"0\"\n",
        "tf.compat.v1.keras.backend.set_session(tf.compat.v1.Session(config=config))\n"
      ],
      "metadata": {
        "id": "ZTynI2Qfno2D"
      },
      "execution_count": 5,
      "outputs": []
    },
    {
      "cell_type": "code",
      "source": [
        "import cv2\n",
        "import numpy as np\n",
        "import ipywidgets as widgets\n",
        "from IPython.display import display, HTML\n",
        "\n",
        "# Global variables\n",
        "drawing = False\n",
        "ix, iy = -1, -1\n",
        "\n",
        "# Create a black image\n",
        "img = np.zeros((256, 256, 3), np.uint8)\n",
        "\n",
        "# Create a button\n",
        "button_save = widgets.Button(description=\"Save\")\n",
        "\n",
        "def save_button_clicked(b):\n",
        "    global img\n",
        "    cv2.imwrite('/Home/Desktop/working/image.jpg', img)\n",
        "\n",
        "button_save.on_click(save_button_clicked)\n",
        "\n",
        "# Create an HTML display for the image\n",
        "html_img = HTML()\n",
        "display(html_img)\n",
        "\n",
        "def draw(event, x, y, flags, param):\n",
        "    global ix, iy, drawing, img\n",
        "\n",
        "    if event == cv2.EVENT_LBUTTONDOWN:\n",
        "        drawing = True\n",
        "        ix, iy = x, y\n",
        "\n",
        "    elif event == cv2.EVENT_MOUSEMOVE:\n",
        "        if drawing:\n",
        "            cv2.line(img, (ix, iy), (x, y), (255, 255, 255), 5)\n",
        "            ix, iy = x, y\n",
        "\n",
        "    elif event == cv2.EVENT_LBUTTONUP:\n",
        "        drawing = False\n",
        "\n",
        "cv2.namedWindow('Drawing')\n",
        "cv2.setMouseCallback('Drawing', draw)\n",
        "\n",
        "while True:\n",
        "    cv2.imshow('Drawing', img)\n",
        "\n",
        "    if cv2.waitKey(1) & 0xFF == 27:  # Press 'ESC' to exit\n",
        "        break\n",
        "\n",
        "cv2.destroyAllWindows()\n",
        "\n",
        "# Update the HTML display with the saved image\n",
        "with open('/Home/Desktop/working/image.jpg', 'rb') as f:\n",
        "    image_data = f.read()\n",
        "    html_img.value = f'<img src=\"data:image/jpeg;base64,{image_data.hex()}\" width=\"256\" height=\"256\">'\n",
        "\n",
        "# Display the \"Save\" button\n",
        "display(button_save)"
      ],
      "metadata": {
        "colab": {
          "base_uri": "https://localhost:8080/",
          "height": 34
        },
        "id": "wSk8FrFanscz",
        "outputId": "d7a86ed2-fcd3-4ae2-a181-8f71d9376ff6"
      },
      "execution_count": null,
      "outputs": [
        {
          "output_type": "display_data",
          "data": {
            "text/plain": [
              "<IPython.core.display.HTML object>"
            ]
          },
          "metadata": {}
        }
      ]
    }
  ],
  "metadata": {
    "colab": {
      "provenance": [],
      "authorship_tag": "ABX9TyNMc+tigt7JD8PHnvgdh628",
      "include_colab_link": true
    },
    "kernelspec": {
      "display_name": "Python 3",
      "name": "python3"
    },
    "language_info": {
      "name": "python"
    },
    "widgets": {
      "application/vnd.jupyter.widget-state+json": {
        "f51af3180c0d4b7ea87ea299a63ccccc": {
          "model_module": "@jupyter-widgets/controls",
          "model_name": "VBoxModel",
          "model_module_version": "1.5.0",
          "state": {
            "_dom_classes": [
              "widget-interact"
            ],
            "_model_module": "@jupyter-widgets/controls",
            "_model_module_version": "1.5.0",
            "_model_name": "VBoxModel",
            "_view_count": null,
            "_view_module": "@jupyter-widgets/controls",
            "_view_module_version": "1.5.0",
            "_view_name": "VBoxView",
            "box_style": "",
            "children": [
              "IPY_MODEL_cb337d76dce84ac19967b910bb9f4653",
              "IPY_MODEL_c947185f96f444d79f540d706f7ef3a6",
              "IPY_MODEL_42e9887b425f4c2f9c953cc9d6c50374",
              "IPY_MODEL_e2dd5d50f11b4c4f8e2963dd4e983826",
              "IPY_MODEL_6159a116c5b449ea929de88b04b8f1c5"
            ],
            "layout": "IPY_MODEL_928295cc3c14435b831b0d99687c1b82"
          }
        },
        "cb337d76dce84ac19967b910bb9f4653": {
          "model_module": "@jupyter-widgets/controls",
          "model_name": "IntSliderModel",
          "model_module_version": "1.5.0",
          "state": {
            "_dom_classes": [],
            "_model_module": "@jupyter-widgets/controls",
            "_model_module_version": "1.5.0",
            "_model_name": "IntSliderModel",
            "_view_count": null,
            "_view_module": "@jupyter-widgets/controls",
            "_view_module_version": "1.5.0",
            "_view_name": "IntSliderView",
            "continuous_update": true,
            "description": "x1",
            "description_tooltip": null,
            "disabled": false,
            "layout": "IPY_MODEL_f260af32071146108b106919fbefd93e",
            "max": 256,
            "min": 0,
            "orientation": "horizontal",
            "readout": true,
            "readout_format": "d",
            "step": 1,
            "style": "IPY_MODEL_36cfc92b943d40c2ad1f8ae80a3062f6",
            "value": 128
          }
        },
        "c947185f96f444d79f540d706f7ef3a6": {
          "model_module": "@jupyter-widgets/controls",
          "model_name": "IntSliderModel",
          "model_module_version": "1.5.0",
          "state": {
            "_dom_classes": [],
            "_model_module": "@jupyter-widgets/controls",
            "_model_module_version": "1.5.0",
            "_model_name": "IntSliderModel",
            "_view_count": null,
            "_view_module": "@jupyter-widgets/controls",
            "_view_module_version": "1.5.0",
            "_view_name": "IntSliderView",
            "continuous_update": true,
            "description": "y1",
            "description_tooltip": null,
            "disabled": false,
            "layout": "IPY_MODEL_f0d3958f377c4b7db5573e5fa8c6c6bb",
            "max": 256,
            "min": 0,
            "orientation": "horizontal",
            "readout": true,
            "readout_format": "d",
            "step": 1,
            "style": "IPY_MODEL_9785c27bf1a94693843cb071e23b1fc4",
            "value": 128
          }
        },
        "42e9887b425f4c2f9c953cc9d6c50374": {
          "model_module": "@jupyter-widgets/controls",
          "model_name": "IntSliderModel",
          "model_module_version": "1.5.0",
          "state": {
            "_dom_classes": [],
            "_model_module": "@jupyter-widgets/controls",
            "_model_module_version": "1.5.0",
            "_model_name": "IntSliderModel",
            "_view_count": null,
            "_view_module": "@jupyter-widgets/controls",
            "_view_module_version": "1.5.0",
            "_view_name": "IntSliderView",
            "continuous_update": true,
            "description": "x2",
            "description_tooltip": null,
            "disabled": false,
            "layout": "IPY_MODEL_bcedee3c21a24b81912178ee0e8c0827",
            "max": 256,
            "min": 0,
            "orientation": "horizontal",
            "readout": true,
            "readout_format": "d",
            "step": 1,
            "style": "IPY_MODEL_06751f48e0f3437886707112c30645ee",
            "value": 128
          }
        },
        "e2dd5d50f11b4c4f8e2963dd4e983826": {
          "model_module": "@jupyter-widgets/controls",
          "model_name": "IntSliderModel",
          "model_module_version": "1.5.0",
          "state": {
            "_dom_classes": [],
            "_model_module": "@jupyter-widgets/controls",
            "_model_module_version": "1.5.0",
            "_model_name": "IntSliderModel",
            "_view_count": null,
            "_view_module": "@jupyter-widgets/controls",
            "_view_module_version": "1.5.0",
            "_view_name": "IntSliderView",
            "continuous_update": true,
            "description": "y2",
            "description_tooltip": null,
            "disabled": false,
            "layout": "IPY_MODEL_2b0bbf12642a4b6bae9f5b1febd560ef",
            "max": 256,
            "min": 0,
            "orientation": "horizontal",
            "readout": true,
            "readout_format": "d",
            "step": 1,
            "style": "IPY_MODEL_c724ea494e694c4d85404a2074cdc733",
            "value": 128
          }
        },
        "6159a116c5b449ea929de88b04b8f1c5": {
          "model_module": "@jupyter-widgets/output",
          "model_name": "OutputModel",
          "model_module_version": "1.0.0",
          "state": {
            "_dom_classes": [],
            "_model_module": "@jupyter-widgets/output",
            "_model_module_version": "1.0.0",
            "_model_name": "OutputModel",
            "_view_count": null,
            "_view_module": "@jupyter-widgets/output",
            "_view_module_version": "1.0.0",
            "_view_name": "OutputView",
            "layout": "IPY_MODEL_ff0bfed2497e42369d82fbfba9ce0627",
            "msg_id": "",
            "outputs": [
              {
                "output_type": "display_data",
                "data": {
                  "text/plain": "<PIL.Image.Image image mode=RGB size=256x256>",
                  "image/png": "iVBORw0KGgoAAAANSUhEUgAAAQAAAAEACAIAAADTED8xAAACzElEQVR4nO3TMQGAMBDAQIoxdgR3R1mR8UPuFGTJOvu7oOqeDoBJBiDNAKQZgDQDkGYA0gxAmgFIMwBpBiDNAKQZgDQDkGYA0gxAmgFIMwBpBiDNAKQZgDQDkGYA0gxAmgFIMwBpBiDNAKQZgDQDkGYA0gxAmgFIMwBpBiDNAKQZgDQDkGYA0gxAmgFIMwBpBiDNAKQZgDQDkGYA0gxAmgFIMwBpBiDNAKQZgDQDkGYA0gxAmgFIMwBpBiDNAKQZgDQDkGYA0gxAmgFIMwBpBiDNAKQZgDQDkGYA0gxAmgFIMwBpBiDNAKQZgDQDkGYA0gxAmgFIMwBpBiDNAKQZgDQDkGYA0gxAmgFIMwBpBiDNAKQZgDQDkGYA0gxAmgFIMwBpBiDNAKQZgDQDkGYA0gxAmgFIMwBpBiDNAKQZgDQDkGYA0gxAmgFIMwBpBiDNAKQZgDQDkGYA0gxAmgFIMwBpBiDNAKQZgDQDkGYA0gxAmgGGrfeZTkgzwLCzv+mENAOQZgDSDECaAUgzAGkGIM0ApBmANAOQZgDSDECaAUgzAGkGIM0ApBmANAOQZgDSDECaAUgzAGkGIM0ApBmANAOQZgDSDECaAUgzAGkGIM0ApBmANAOQZgDSDECaAUgzAGkGIM0ApBmANAOQZgDSDECaAUgzAGkGIM0ApBmANAOQZgDSDECaAUgzAGkGIM0ApBmANAOQZgDSDECaAUgzAGkGIM0ApBmANAOQZgDSDECaAUgzAGkGIM0ApBmANAOQZgDSDECaAUgzAGkGIM0ApBmANAOQZgDSDECaAUgzAGkGIM0ApBmANAOQZgDSDECaAUgzAGkGIM0ApBmANAOQZgDSDECaAUgzAGkGIM0ApBmANAOQZgDSDECaAUgzAGkGIM0ApBmANAOQZgDSDECaAUgzAGkGIM0ApBmANAOQZgDSDECaAUgzAGkGIO0H5t4HdtdosiUAAAAASUVORK5CYII=\n"
                },
                "metadata": {}
              }
            ]
          }
        },
        "928295cc3c14435b831b0d99687c1b82": {
          "model_module": "@jupyter-widgets/base",
          "model_name": "LayoutModel",
          "model_module_version": "1.2.0",
          "state": {
            "_model_module": "@jupyter-widgets/base",
            "_model_module_version": "1.2.0",
            "_model_name": "LayoutModel",
            "_view_count": null,
            "_view_module": "@jupyter-widgets/base",
            "_view_module_version": "1.2.0",
            "_view_name": "LayoutView",
            "align_content": null,
            "align_items": null,
            "align_self": null,
            "border": null,
            "bottom": null,
            "display": null,
            "flex": null,
            "flex_flow": null,
            "grid_area": null,
            "grid_auto_columns": null,
            "grid_auto_flow": null,
            "grid_auto_rows": null,
            "grid_column": null,
            "grid_gap": null,
            "grid_row": null,
            "grid_template_areas": null,
            "grid_template_columns": null,
            "grid_template_rows": null,
            "height": null,
            "justify_content": null,
            "justify_items": null,
            "left": null,
            "margin": null,
            "max_height": null,
            "max_width": null,
            "min_height": null,
            "min_width": null,
            "object_fit": null,
            "object_position": null,
            "order": null,
            "overflow": null,
            "overflow_x": null,
            "overflow_y": null,
            "padding": null,
            "right": null,
            "top": null,
            "visibility": null,
            "width": null
          }
        },
        "f260af32071146108b106919fbefd93e": {
          "model_module": "@jupyter-widgets/base",
          "model_name": "LayoutModel",
          "model_module_version": "1.2.0",
          "state": {
            "_model_module": "@jupyter-widgets/base",
            "_model_module_version": "1.2.0",
            "_model_name": "LayoutModel",
            "_view_count": null,
            "_view_module": "@jupyter-widgets/base",
            "_view_module_version": "1.2.0",
            "_view_name": "LayoutView",
            "align_content": null,
            "align_items": null,
            "align_self": null,
            "border": null,
            "bottom": null,
            "display": null,
            "flex": null,
            "flex_flow": null,
            "grid_area": null,
            "grid_auto_columns": null,
            "grid_auto_flow": null,
            "grid_auto_rows": null,
            "grid_column": null,
            "grid_gap": null,
            "grid_row": null,
            "grid_template_areas": null,
            "grid_template_columns": null,
            "grid_template_rows": null,
            "height": null,
            "justify_content": null,
            "justify_items": null,
            "left": null,
            "margin": null,
            "max_height": null,
            "max_width": null,
            "min_height": null,
            "min_width": null,
            "object_fit": null,
            "object_position": null,
            "order": null,
            "overflow": null,
            "overflow_x": null,
            "overflow_y": null,
            "padding": null,
            "right": null,
            "top": null,
            "visibility": null,
            "width": null
          }
        },
        "36cfc92b943d40c2ad1f8ae80a3062f6": {
          "model_module": "@jupyter-widgets/controls",
          "model_name": "SliderStyleModel",
          "model_module_version": "1.5.0",
          "state": {
            "_model_module": "@jupyter-widgets/controls",
            "_model_module_version": "1.5.0",
            "_model_name": "SliderStyleModel",
            "_view_count": null,
            "_view_module": "@jupyter-widgets/base",
            "_view_module_version": "1.2.0",
            "_view_name": "StyleView",
            "description_width": "",
            "handle_color": null
          }
        },
        "f0d3958f377c4b7db5573e5fa8c6c6bb": {
          "model_module": "@jupyter-widgets/base",
          "model_name": "LayoutModel",
          "model_module_version": "1.2.0",
          "state": {
            "_model_module": "@jupyter-widgets/base",
            "_model_module_version": "1.2.0",
            "_model_name": "LayoutModel",
            "_view_count": null,
            "_view_module": "@jupyter-widgets/base",
            "_view_module_version": "1.2.0",
            "_view_name": "LayoutView",
            "align_content": null,
            "align_items": null,
            "align_self": null,
            "border": null,
            "bottom": null,
            "display": null,
            "flex": null,
            "flex_flow": null,
            "grid_area": null,
            "grid_auto_columns": null,
            "grid_auto_flow": null,
            "grid_auto_rows": null,
            "grid_column": null,
            "grid_gap": null,
            "grid_row": null,
            "grid_template_areas": null,
            "grid_template_columns": null,
            "grid_template_rows": null,
            "height": null,
            "justify_content": null,
            "justify_items": null,
            "left": null,
            "margin": null,
            "max_height": null,
            "max_width": null,
            "min_height": null,
            "min_width": null,
            "object_fit": null,
            "object_position": null,
            "order": null,
            "overflow": null,
            "overflow_x": null,
            "overflow_y": null,
            "padding": null,
            "right": null,
            "top": null,
            "visibility": null,
            "width": null
          }
        },
        "9785c27bf1a94693843cb071e23b1fc4": {
          "model_module": "@jupyter-widgets/controls",
          "model_name": "SliderStyleModel",
          "model_module_version": "1.5.0",
          "state": {
            "_model_module": "@jupyter-widgets/controls",
            "_model_module_version": "1.5.0",
            "_model_name": "SliderStyleModel",
            "_view_count": null,
            "_view_module": "@jupyter-widgets/base",
            "_view_module_version": "1.2.0",
            "_view_name": "StyleView",
            "description_width": "",
            "handle_color": null
          }
        },
        "bcedee3c21a24b81912178ee0e8c0827": {
          "model_module": "@jupyter-widgets/base",
          "model_name": "LayoutModel",
          "model_module_version": "1.2.0",
          "state": {
            "_model_module": "@jupyter-widgets/base",
            "_model_module_version": "1.2.0",
            "_model_name": "LayoutModel",
            "_view_count": null,
            "_view_module": "@jupyter-widgets/base",
            "_view_module_version": "1.2.0",
            "_view_name": "LayoutView",
            "align_content": null,
            "align_items": null,
            "align_self": null,
            "border": null,
            "bottom": null,
            "display": null,
            "flex": null,
            "flex_flow": null,
            "grid_area": null,
            "grid_auto_columns": null,
            "grid_auto_flow": null,
            "grid_auto_rows": null,
            "grid_column": null,
            "grid_gap": null,
            "grid_row": null,
            "grid_template_areas": null,
            "grid_template_columns": null,
            "grid_template_rows": null,
            "height": null,
            "justify_content": null,
            "justify_items": null,
            "left": null,
            "margin": null,
            "max_height": null,
            "max_width": null,
            "min_height": null,
            "min_width": null,
            "object_fit": null,
            "object_position": null,
            "order": null,
            "overflow": null,
            "overflow_x": null,
            "overflow_y": null,
            "padding": null,
            "right": null,
            "top": null,
            "visibility": null,
            "width": null
          }
        },
        "06751f48e0f3437886707112c30645ee": {
          "model_module": "@jupyter-widgets/controls",
          "model_name": "SliderStyleModel",
          "model_module_version": "1.5.0",
          "state": {
            "_model_module": "@jupyter-widgets/controls",
            "_model_module_version": "1.5.0",
            "_model_name": "SliderStyleModel",
            "_view_count": null,
            "_view_module": "@jupyter-widgets/base",
            "_view_module_version": "1.2.0",
            "_view_name": "StyleView",
            "description_width": "",
            "handle_color": null
          }
        },
        "2b0bbf12642a4b6bae9f5b1febd560ef": {
          "model_module": "@jupyter-widgets/base",
          "model_name": "LayoutModel",
          "model_module_version": "1.2.0",
          "state": {
            "_model_module": "@jupyter-widgets/base",
            "_model_module_version": "1.2.0",
            "_model_name": "LayoutModel",
            "_view_count": null,
            "_view_module": "@jupyter-widgets/base",
            "_view_module_version": "1.2.0",
            "_view_name": "LayoutView",
            "align_content": null,
            "align_items": null,
            "align_self": null,
            "border": null,
            "bottom": null,
            "display": null,
            "flex": null,
            "flex_flow": null,
            "grid_area": null,
            "grid_auto_columns": null,
            "grid_auto_flow": null,
            "grid_auto_rows": null,
            "grid_column": null,
            "grid_gap": null,
            "grid_row": null,
            "grid_template_areas": null,
            "grid_template_columns": null,
            "grid_template_rows": null,
            "height": null,
            "justify_content": null,
            "justify_items": null,
            "left": null,
            "margin": null,
            "max_height": null,
            "max_width": null,
            "min_height": null,
            "min_width": null,
            "object_fit": null,
            "object_position": null,
            "order": null,
            "overflow": null,
            "overflow_x": null,
            "overflow_y": null,
            "padding": null,
            "right": null,
            "top": null,
            "visibility": null,
            "width": null
          }
        },
        "c724ea494e694c4d85404a2074cdc733": {
          "model_module": "@jupyter-widgets/controls",
          "model_name": "SliderStyleModel",
          "model_module_version": "1.5.0",
          "state": {
            "_model_module": "@jupyter-widgets/controls",
            "_model_module_version": "1.5.0",
            "_model_name": "SliderStyleModel",
            "_view_count": null,
            "_view_module": "@jupyter-widgets/base",
            "_view_module_version": "1.2.0",
            "_view_name": "StyleView",
            "description_width": "",
            "handle_color": null
          }
        },
        "ff0bfed2497e42369d82fbfba9ce0627": {
          "model_module": "@jupyter-widgets/base",
          "model_name": "LayoutModel",
          "model_module_version": "1.2.0",
          "state": {
            "_model_module": "@jupyter-widgets/base",
            "_model_module_version": "1.2.0",
            "_model_name": "LayoutModel",
            "_view_count": null,
            "_view_module": "@jupyter-widgets/base",
            "_view_module_version": "1.2.0",
            "_view_name": "LayoutView",
            "align_content": null,
            "align_items": null,
            "align_self": null,
            "border": null,
            "bottom": null,
            "display": null,
            "flex": null,
            "flex_flow": null,
            "grid_area": null,
            "grid_auto_columns": null,
            "grid_auto_flow": null,
            "grid_auto_rows": null,
            "grid_column": null,
            "grid_gap": null,
            "grid_row": null,
            "grid_template_areas": null,
            "grid_template_columns": null,
            "grid_template_rows": null,
            "height": null,
            "justify_content": null,
            "justify_items": null,
            "left": null,
            "margin": null,
            "max_height": null,
            "max_width": null,
            "min_height": null,
            "min_width": null,
            "object_fit": null,
            "object_position": null,
            "order": null,
            "overflow": null,
            "overflow_x": null,
            "overflow_y": null,
            "padding": null,
            "right": null,
            "top": null,
            "visibility": null,
            "width": null
          }
        }
      }
    }
  },
  "nbformat": 4,
  "nbformat_minor": 0
}